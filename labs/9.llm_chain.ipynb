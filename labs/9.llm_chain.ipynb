{
 "cells": [
  {
   "cell_type": "markdown",
   "metadata": {},
   "source": [
    "### LLMChain"
   ]
  },
  {
   "cell_type": "code",
   "execution_count": 8,
   "metadata": {},
   "outputs": [],
   "source": [
    "from dotenv import find_dotenv, load_dotenv\n",
    "import os\n",
    "from langchain_openai import AzureChatOpenAI\n",
    "from langchain import LLMChain, PromptTemplate\n",
    "\n",
    "load_dotenv(find_dotenv())\n",
    "\n",
    "model = AzureChatOpenAI(\n",
    "    openai_api_type=\"azure\",\n",
    "    azure_endpoint=os.getenv(\"AZURE_OPENAI_ENDPOINT\"),\n",
    "    azure_deployment=os.getenv(\"AZURE_OPENAI_DEPLOYMENT_NAME\"),\n",
    "    api_version=os.getenv(\"AZURE_OPENAI_API_VERSION\"),\n",
    "    openai_api_key=os.getenv(\"AZURE_OPENAI_API_KEY\")\n",
    ")"
   ]
  },
  {
   "cell_type": "code",
   "execution_count": 12,
   "metadata": {},
   "outputs": [
    {
     "name": "stderr",
     "output_type": "stream",
     "text": [
      "/workspaces/LangChain/.venv/lib/python3.12/site-packages/langchain_core/_api/deprecation.py:139: LangChainDeprecationWarning: The method `Chain.__call__` was deprecated in langchain 0.1.0 and will be removed in 0.3.0. Use invoke instead.\n",
      "  warn_deprecated(\n"
     ]
    },
    {
     "data": {
      "text/plain": [
       "{'topic': 'saving money',\n",
       " 'text': \"1. Create a Budget: This will help you identify areas where you can reduce spending. It will also help you understand where your money is going and how you can save more.\\n\\n2. Set Savings Goals: Having a goal will motivate you to save more. This could be a short-term goal like saving for a vacation or a long-term goal like saving for retirement.\\n\\n3. Pay Off Debts: High-interest debts can eat up your money. Pay off your debts as soon as possible to save on interest.\\n\\n4. Save on Utilities: Turn off lights when not in use, unplug electronics, and use energy-efficient appliances to save on utility bills.\\n\\n5. Eat at Home: Eating out can be expensive. Save money by cooking meals at home.\\n\\n6. Use Coupons and Discounts: Always look for coupons and discounts when shopping. There are many apps and websites that offer deals and discounts.\\n\\n7. Automate Your Savings: Set up automatic transfers to your savings account to ensure you are consistently saving.\\n\\n8. Reduce Entertainment Costs: Instead of going out to the movies, have a movie night at home. Look for free or low-cost entertainment options in your area.\\n\\n9. Shop Smart: Don't impulse buy. Always do your research and compare prices before making a purchase.\\n\\n10. Save on Transportation: Use public transportation, carpool, bike, or walk whenever possible to save on gas and parking costs.\\n\\n11. DIY: Instead of paying for services, do it yourself. This could be anything from home repairs to grooming.\\n\\n12. Cancel Unused Subscriptions: If you're not using a subscription service, cancel it. This could be anything from magazines to streaming services.\\n\\n13. Buy in Bulk: Buying in bulk can save you money in the long run. Just make sure you're buying things you will actually use.\\n\\n14. Plan your Grocery Shopping: Make a list before you go to the store and stick to it. This will help you avoid impulse purchases.\\n\\n15. Sell Items You Don't Need: If you have items in your house that you no longer need, sell them to make some extra cash. \\n\\nRemember, every little bit helps when it comes to saving money. A few small changes can add up to big savings over time.\"}"
      ]
     },
     "execution_count": 12,
     "metadata": {},
     "output_type": "execute_result"
    }
   ],
   "source": [
    "prompt_topic = \"What are tips for {topic}\"\n",
    "llm_chain = LLMChain(\n",
    "    llm = model,\n",
    "    prompt=PromptTemplate.from_template(prompt_topic)\n",
    ")\n",
    "llm_chain(\"saving money\")"
   ]
  },
  {
   "cell_type": "markdown",
   "metadata": {},
   "source": [
    "With output parser to format output, the output parser is optional"
   ]
  },
  {
   "cell_type": "code",
   "execution_count": 15,
   "metadata": {},
   "outputs": [
    {
     "data": {
      "text/plain": [
       "'Mercury, Venus, Earth, Mars, Jupiter, Saturn, Uranus, Neptune.'"
      ]
     },
     "execution_count": 15,
     "metadata": {},
     "output_type": "execute_result"
    }
   ],
   "source": [
    "from langchain_core.output_parsers import CommaSeparatedListOutputParser, StrOutputParser\n",
    "output_parser = CommaSeparatedListOutputParser()\n",
    "template = \"What are the planets? Only use one word for each.\"\n",
    "prompt = PromptTemplate(template = template, input_variables=[], output_parser = output_parser)\n",
    "llm_chain = LLMChain(prompt=prompt, llm=model)\n",
    "llm_chain.predict()"
   ]
  },
  {
   "cell_type": "code",
   "execution_count": 16,
   "metadata": {},
   "outputs": [
    {
     "name": "stderr",
     "output_type": "stream",
     "text": [
      "/workspaces/LangChain/.venv/lib/python3.12/site-packages/langchain/chains/llm.py:341: UserWarning: The predict_and_parse method is deprecated, instead pass an output parser directly to LLMChain.\n",
      "  warnings.warn(\n"
     ]
    },
    {
     "data": {
      "text/plain": [
       "['Mercury',\n",
       " 'Venus',\n",
       " 'Earth',\n",
       " 'Mars',\n",
       " 'Jupiter',\n",
       " 'Saturn',\n",
       " 'Uranus',\n",
       " 'Neptune.']"
      ]
     },
     "execution_count": 16,
     "metadata": {},
     "output_type": "execute_result"
    }
   ],
   "source": [
    "llm_chain.predict_and_parse()"
   ]
  }
 ],
 "metadata": {
  "kernelspec": {
   "display_name": ".venv",
   "language": "python",
   "name": "python3"
  },
  "language_info": {
   "codemirror_mode": {
    "name": "ipython",
    "version": 3
   },
   "file_extension": ".py",
   "mimetype": "text/x-python",
   "name": "python",
   "nbconvert_exporter": "python",
   "pygments_lexer": "ipython3",
   "version": "3.12.4"
  }
 },
 "nbformat": 4,
 "nbformat_minor": 2
}
