{
 "cells": [
  {
   "cell_type": "markdown",
   "metadata": {},
   "source": [
    "### Simple Sequential Chain"
   ]
  },
  {
   "cell_type": "code",
   "execution_count": 6,
   "metadata": {},
   "outputs": [],
   "source": [
    "from dotenv import find_dotenv, load_dotenv\n",
    "import os\n",
    "from langchain_openai import AzureChatOpenAI\n",
    "from langchain.chains import LLMChain, SimpleSequentialChain\n",
    "from langchain.prompts.chat import ChatPromptTemplate, HumanMessagePromptTemplate\n",
    "\n",
    "load_dotenv(find_dotenv())\n",
    "\n",
    "model = AzureChatOpenAI(\n",
    "    openai_api_type=\"azure\",\n",
    "    azure_endpoint=os.getenv(\"AZURE_OPENAI_ENDPOINT\"),\n",
    "    azure_deployment=os.getenv(\"AZURE_OPENAI_DEPLOYMENT_NAME\"),\n",
    "    api_version=os.getenv(\"AZURE_OPENAI_API_VERSION\"),\n",
    "    openai_api_key=os.getenv(\"AZURE_OPENAI_API_KEY\")\n",
    ")"
   ]
  },
  {
   "cell_type": "code",
   "execution_count": 26,
   "metadata": {},
   "outputs": [
    {
     "name": "stdout",
     "output_type": "stream",
     "text": [
      "\n",
      "\n",
      "\u001b[1m> Entering new SimpleSequentialChain chain...\u001b[0m\n",
      "\u001b[36;1m\u001b[1;3m1. \"The Secret Garden\"\n",
      "2. \"Bridge to Terabithia\"\n",
      "3. \"The Golden Compass\"\u001b[0m\n",
      "\u001b[33;1m\u001b[1;3m1. \"The Secret Garden\"\n",
      "\"The Secret Garden\" is a captivating family drama film based on Frances Hodgson Burnett's classic novel. The movie centers around Mary Lennox, a young British girl born and raised in India, who becomes an orphan after her parents die in a cholera outbreak. She is sent to Yorkshire, England to live with her uncle, Archibald Craven, in his imposing and secluded mansion. As she tries to adjust to her new life, she discovers a hidden, magical garden on the premises that was once tended to by her deceased aunt. With the help of her sickly cousin Colin, whom she discovers locked away in a hidden room in the mansion, and a local boy named Dickon, she brings the neglected garden back to life. The garden becomes a symbol of hope and healing, not just for Mary, but for her cousin and uncle as well, helping them to overcome their grief and sorrow.\n",
      "\n",
      "2. \"Bridge to Terabithia\"\n",
      "\"Bridge to Terabithia\" is a poignant fantasy adventure film based on Katherine Paterson's novel of the same name. It tells the story of two young friends, Jess Aarons and Leslie Burke, who escape from their troubles by creating an imaginary kingdom called Terabithia. Jess, an aspiring artist, and Leslie, a vibrant and imaginative new girl in school, use a rope swing to cross over into their magical world, where they reign as king and queen, fighting off imagined creatures and villains. However, their friendship, courage, and the strength of their imagination are put to the ultimate test when tragedy strikes, leading to a bittersweet coming-of-age tale that explores themes of friendship, loss, and the power of imagination.\n",
      "\n",
      "3. \"The Golden Compass\"\n",
      "\"The Golden Compass\" is a thrilling fantasy adventure film based on the first book of Philip Pullman's \"His Dark Materials\" trilogy. The plot centers on Lyra Belacqua, a young orphan girl living in an alternate universe where all humans have animal companions known as \"daemons\", which are manifestations of their souls. Lyra embarks on a dangerous journey to the Arctic after her friend is kidnapped by a mysterious organization known as the Gobblers. Equipped with the golden compass, a truth-telling device, she encounters a host of characters including witches, armored polar bears, and gypsies. The film explores themes of bravery, betrayal, and the fight against oppressive powers as Lyra uncovers a sinister plot involving the disappearance of children and a mysterious substance known as \"Dust\".\u001b[0m\n",
      "\n",
      "\u001b[1m> Finished chain.\u001b[0m\n"
     ]
    }
   ],
   "source": [
    "template_1 = \"Provide three titles of movies about {topic}.\"\n",
    "template_2 = \"Write a detailed description for each movie in this {list}.\"\n",
    "\n",
    "chains = []\n",
    "for template in [template_1, template_2]:\n",
    "    prompt = ChatPromptTemplate.from_template(template)\n",
    "    chain = LLMChain(\n",
    "        llm = model,\n",
    "        prompt = prompt\n",
    "    )\n",
    "    chians = chains.append(chain)\n",
    "result = SimpleSequentialChain(chains=chains, verbose=True).run('Children')\n"
   ]
  }
 ],
 "metadata": {
  "kernelspec": {
   "display_name": ".venv",
   "language": "python",
   "name": "python3"
  },
  "language_info": {
   "codemirror_mode": {
    "name": "ipython",
    "version": 3
   },
   "file_extension": ".py",
   "mimetype": "text/x-python",
   "name": "python",
   "nbconvert_exporter": "python",
   "pygments_lexer": "ipython3",
   "version": "3.12.4"
  }
 },
 "nbformat": 4,
 "nbformat_minor": 2
}
