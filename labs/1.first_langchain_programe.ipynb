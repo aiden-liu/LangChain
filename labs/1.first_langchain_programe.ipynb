{
 "cells": [
  {
   "cell_type": "markdown",
   "metadata": {},
   "source": [
    "# First LangChain Program"
   ]
  },
  {
   "cell_type": "code",
   "execution_count": 7,
   "metadata": {},
   "outputs": [],
   "source": [
    "from openai import OpenAI\n",
    "import os\n",
    "from dotenv import load_dotenv, find_dotenv"
   ]
  },
  {
   "cell_type": "code",
   "execution_count": 8,
   "metadata": {},
   "outputs": [],
   "source": [
    "load_dotenv(find_dotenv())\n",
    "\n",
    "client = OpenAI(\n",
    "    # This is the default and can be omitted\n",
    "    api_key=os.environ.get(\"OPENAI_API_KEY\"),\n",
    ")"
   ]
  },
  {
   "cell_type": "code",
   "execution_count": 9,
   "metadata": {},
   "outputs": [],
   "source": [
    "reply = client.chat.completions.create(\n",
    "    model=\"gpt-3.5-turbo\",\n",
    "    max_tokens=100,\n",
    "    messages=[\n",
    "        {\n",
    "            \"role\": \"system\",\n",
    "            \"content\": \"You are a helpful assistant in chemistry.\"\n",
    "        },\n",
    "        {\n",
    "            \"role\": \"user\",\n",
    "            \"content\": \"What is the first element in the periodic table? The response should be one word.\"\n",
    "        }\n",
    "    ]\n",
    ")"
   ]
  },
  {
   "cell_type": "code",
   "execution_count": 20,
   "metadata": {},
   "outputs": [
    {
     "name": "stdout",
     "output_type": "stream",
     "text": [
      "Hydrogen\n"
     ]
    }
   ],
   "source": [
    "print(reply.choices[0].message.content)"
   ]
  },
  {
   "cell_type": "code",
   "execution_count": 22,
   "metadata": {},
   "outputs": [],
   "source": [
    "from langchain.chat_models import ChatOpenAI"
   ]
  },
  {
   "cell_type": "code",
   "execution_count": 23,
   "metadata": {},
   "outputs": [],
   "source": [
    "llm = ChatOpenAI(\n",
    "    openai_api_key = os.environ.get(\"OPENAI_API_KEY\"),\n",
    "    model = \"gpt-3.5-turbo\",\n",
    "    max_tokens = 100\n",
    ")"
   ]
  },
  {
   "cell_type": "code",
   "execution_count": 24,
   "metadata": {},
   "outputs": [],
   "source": [
    "from langchain.schema import AIMessage, HumanMessage, SystemMessage"
   ]
  },
  {
   "cell_type": "code",
   "execution_count": 25,
   "metadata": {},
   "outputs": [],
   "source": [
    "reply = llm([\n",
    "    SystemMessage(content='You are a helpful assistant in chemistry.'),\n",
    "    HumanMessage(content='What is the last element in the periodic table? The response should be one word.')\n",
    "])"
   ]
  },
  {
   "cell_type": "code",
   "execution_count": 28,
   "metadata": {},
   "outputs": [
    {
     "name": "stdout",
     "output_type": "stream",
     "text": [
      "Oganesson\n"
     ]
    }
   ],
   "source": [
    "print(reply.content)"
   ]
  },
  {
   "cell_type": "code",
   "execution_count": 29,
   "metadata": {},
   "outputs": [
    {
     "name": "stdout",
     "output_type": "stream",
     "text": [
      "generations=[[ChatGeneration(text='Oganesson', generation_info={'finish_reason': 'stop', 'logprobs': None}, message=AIMessage(content='Oganesson', response_metadata={'token_usage': {'completion_tokens': 3, 'prompt_tokens': 36, 'total_tokens': 39}, 'model_name': 'gpt-3.5-turbo', 'system_fingerprint': None, 'finish_reason': 'stop', 'logprobs': None}, id='run-43a33d47-0a9f-4db7-9432-e6be3a961fc3-0'))], [ChatGeneration(text='The acronym for chemistry is \"Chem.\"', generation_info={'finish_reason': 'stop', 'logprobs': None}, message=AIMessage(content='The acronym for chemistry is \"Chem.\"', response_metadata={'token_usage': {'completion_tokens': 8, 'prompt_tokens': 26, 'total_tokens': 34}, 'model_name': 'gpt-3.5-turbo', 'system_fingerprint': None, 'finish_reason': 'stop', 'logprobs': None}, id='run-4f1e4a03-ea41-45e8-9e38-80ccd6dd3d2d-0'))]] llm_output={'token_usage': {'completion_tokens': 11, 'prompt_tokens': 62, 'total_tokens': 73}, 'model_name': 'gpt-3.5-turbo'} run=[RunInfo(run_id=UUID('43a33d47-0a9f-4db7-9432-e6be3a961fc3')), RunInfo(run_id=UUID('4f1e4a03-ea41-45e8-9e38-80ccd6dd3d2d'))]\n"
     ]
    }
   ],
   "source": [
    "reply = llm.generate([\n",
    "    [SystemMessage(content='You are a helpful assistant in chemistry.'),\n",
    "    HumanMessage(content='What is the last element in the periodic table? The response should be one word.')],\n",
    "    [SystemMessage(content='You are a helpful assistant in chemistry.'),\n",
    "    HumanMessage(content='What is the acronym of it?')]\n",
    "])\n",
    "print(reply)"
   ]
  },
  {
   "cell_type": "code",
   "execution_count": 35,
   "metadata": {},
   "outputs": [
    {
     "name": "stdout",
     "output_type": "stream",
     "text": [
      "Oganesson\n",
      "The acronym for chemistry is \"Chem.\"\n"
     ]
    }
   ],
   "source": [
    "print(reply.generations[0][0].text)\n",
    "print(reply.generations[1][0].text)"
   ]
  }
 ],
 "metadata": {
  "kernelspec": {
   "display_name": "Python 3",
   "language": "python",
   "name": "python3"
  },
  "language_info": {
   "codemirror_mode": {
    "name": "ipython",
    "version": 3
   },
   "file_extension": ".py",
   "mimetype": "text/x-python",
   "name": "python",
   "nbconvert_exporter": "python",
   "pygments_lexer": "ipython3",
   "version": "3.12.4"
  }
 },
 "nbformat": 4,
 "nbformat_minor": 2
}
