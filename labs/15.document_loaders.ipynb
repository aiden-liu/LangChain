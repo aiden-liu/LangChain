{
 "cells": [
  {
   "cell_type": "markdown",
   "metadata": {},
   "source": [
    "### Document Loaders and Integrations"
   ]
  },
  {
   "cell_type": "code",
   "execution_count": 1,
   "metadata": {},
   "outputs": [],
   "source": [
    "from dotenv import find_dotenv, load_dotenv\n",
    "import os\n",
    "from langchain_openai import AzureChatOpenAI\n",
    "\n",
    "load_dotenv(find_dotenv())\n",
    "\n",
    "model = AzureChatOpenAI(\n",
    "    openai_api_type=\"azure\",\n",
    "    azure_endpoint=os.getenv(\"AZURE_OPENAI_ENDPOINT\"),\n",
    "    azure_deployment=os.getenv(\"AZURE_OPENAI_DEPLOYMENT_NAME\"),\n",
    "    api_version=os.getenv(\"AZURE_OPENAI_API_VERSION\"),\n",
    "    openai_api_key=os.getenv(\"AZURE_OPENAI_API_KEY\")\n",
    ")"
   ]
  },
  {
   "cell_type": "markdown",
   "metadata": {},
   "source": [
    "1. CSV Loader"
   ]
  },
  {
   "cell_type": "code",
   "execution_count": 3,
   "metadata": {},
   "outputs": [
    {
     "name": "stdout",
     "output_type": "stream",
     "text": [
      "page_content='Book_Title: Obsidian\n",
      "Original_Book_Title: Obsidian\n",
      "Author_Name: Jennifer L. Armentrout\n",
      "Edition_Language: English\n",
      "Rating_score: 4.17\n",
      "Rating_votes: 236780\n",
      "Review_number: 18161\n",
      "Book_Description: Starting over sucks.When we moved to West Virginia right before my senior year, I’d pretty much resigned myself to thick accents, dodgy internet access, and a whole lot of boring… until I spotted my hot neighbor, with his looming height and eerie green eyes. Things were looking up.And then he opened his mouth.Daemon is infuriating. Arrogant. Stab-worthy. We do not get along. At all. But when a stranger attacks me and Daemon literally freezes time with a wave of his hand, well, something… unexpected happens. The hot alien living next door marks me.You heard me. Alien. Turns out Daemon and his sister have a galaxy of enemies wanting to steal their abilities, and Daemon’s touch has me lit up like the Vegas Strip. The only way I’m getting out of this alive is by sticking close to Daemon until my alien mojo fades. If I don’t kill him first, that is.\n",
      "Year_published: 2011\n",
      "Genres: {'Young Adult': 3439, 'Fantasy (Paranormal) ': 2652, 'Fantasy': 2545, 'Romance': 2507, 'Science Fiction (Aliens) ': 1648, 'Science Fiction': 1170, 'Romance (Paranormal Romance) ': 849, 'Fantasy (Supernatural) ': 494, 'Fantasy (Urban Fantasy) ': 411, 'Fiction': 347}\n",
      "url: https://www.goodreads.com/book/show/12578077-obsidian' metadata={'source': '../docs/sf_aliens.csv', 'row': 0}\n"
     ]
    }
   ],
   "source": [
    "from langchain.document_loaders.csv_loader import CSVLoader\n",
    "\n",
    "loader = CSVLoader(file_path=\"../docs/sf_aliens.csv\")\n",
    "data = loader.load()\n",
    "print(data[0])"
   ]
  },
  {
   "cell_type": "code",
   "execution_count": 4,
   "metadata": {},
   "outputs": [
    {
     "name": "stdout",
     "output_type": "stream",
     "text": [
      "page_content='Book_Title: Onyx\n",
      "Original_Book_Title: Onyx\n",
      "Author_Name: Jennifer L. Armentrout\n",
      "Edition_Language: English\n",
      "Rating_score: 4.27\n",
      "Rating_votes: 153429\n",
      "Review_number: 10497\n",
      "Book_Description: BEING CONNECTED TO DAEMON BLACK SUCKS… Thanks to his alien mojo, Daemon’s determined to prove what he feels for me is more than a product of our bizarro connection. So I’ve sworn him off, even though he’s running more hot than cold these days. But we’ve got bigger problems.SOMETHING WORSE THAN ARUM HAS COME TO TOWN The Department of Defense is here. If they ever find out what Daemon can do and that we’re linked, I’m a goner. So is he. And there’s this new boy in school who’s got a secret of his own. He knows what’s happened to me and he can help, but to do so, I have to lie to Daemon and stay away from him. Like that’s possible. Against all common sense, I’m falling for Daemon. Hard.BUT THEN, EVERYTHING CHANGES I’ve seen someone who shouldn’t be alive. And I have to tell Daemon, even though I know he’s never going to stop searching until he gets the truth. What happened to his brother? Who betrayed him? And what does the DOD want from them—from me?NO ONE IS WHO THEY SEEM. AND NOT EVERYONE WILL SURVIVE THE LIES.\n",
      "Year_published: 2012\n",
      "Genres: {'Young Adult': 2271, 'Fantasy (Paranormal) ': 1819, 'Romance': 1670, 'Fantasy': 1595, 'Science Fiction (Aliens) ': 1304, 'Science Fiction': 775, 'Romance (Paranormal Romance) ': 595, 'Fantasy (Supernatural) ': 369, 'Fantasy (Urban Fantasy) ': 277, 'Fiction': 192}\n",
      "url: https://www.goodreads.com/book/show/13047090-onyx' metadata={'source': '../docs/sf_aliens.csv', 'row': 1}\n"
     ]
    }
   ],
   "source": [
    "print(data[1])"
   ]
  },
  {
   "cell_type": "code",
   "execution_count": 5,
   "metadata": {},
   "outputs": [
    {
     "name": "stdout",
     "output_type": "stream",
     "text": [
      "Book_Title: Obsidian\n",
      "Original_Book_Title: Obsidian\n",
      "Author_Name: Jennifer L. Armentrout\n",
      "Edition_Language: English\n",
      "Rating_score: 4.17\n",
      "Rating_votes: 236780\n",
      "Review_number: 18161\n",
      "Book_Description: Starting over sucks.When we moved to West Virginia right before my senior year, I’d pretty much resigned myself to thick accents, dodgy internet access, and a whole lot of boring… until I spotted my hot neighbor, with his looming height and eerie green eyes. Things were looking up.And then he opened his mouth.Daemon is infuriating. Arrogant. Stab-worthy. We do not get along. At all. But when a stranger attacks me and Daemon literally freezes time with a wave of his hand, well, something… unexpected happens. The hot alien living next door marks me.You heard me. Alien. Turns out Daemon and his sister have a galaxy of enemies wanting to steal their abilities, and Daemon’s touch has me lit up like the Vegas Strip. The only way I’m getting out of this alive is by sticking close to Daemon until my alien mojo fades. If I don’t kill him first, that is.\n",
      "Year_published: 2011\n",
      "Genres: {'Young Adult': 3439, 'Fantasy (Paranormal) ': 2652, 'Fantasy': 2545, 'Romance': 2507, 'Science Fiction (Aliens) ': 1648, 'Science Fiction': 1170, 'Romance (Paranormal Romance) ': 849, 'Fantasy (Supernatural) ': 494, 'Fantasy (Urban Fantasy) ': 411, 'Fiction': 347}\n",
      "url: https://www.goodreads.com/book/show/12578077-obsidian\n"
     ]
    }
   ],
   "source": [
    "print(data[0].page_content)"
   ]
  },
  {
   "cell_type": "markdown",
   "metadata": {},
   "source": [
    "2. HTML Loader"
   ]
  },
  {
   "cell_type": "code",
   "execution_count": 8,
   "metadata": {},
   "outputs": [
    {
     "name": "stdout",
     "output_type": "stream",
     "text": [
      "My First Heading\n",
      "\n",
      "My first paragraph.\n"
     ]
    }
   ],
   "source": [
    "from langchain.document_loaders import UnstructuredHTMLLoader\n",
    "# This loader requires python \"unstructured\" package\n",
    "\n",
    "loader = UnstructuredHTMLLoader(file_path=\"../docs/simple.html\")\n",
    "data = loader.load()\n",
    "print(data[0].page_content)"
   ]
  },
  {
   "cell_type": "markdown",
   "metadata": {},
   "source": [
    "3. PDF Loader"
   ]
  },
  {
   "cell_type": "code",
   "execution_count": 10,
   "metadata": {},
   "outputs": [
    {
     "name": "stdout",
     "output_type": "stream",
     "text": [
      "Sample PDFThis is a simple PDF ﬁle. Fun fun fun.\n",
      "Lorem ipsum dolor sit amet, consectetuer adipiscing elit. Phasellus facilisis odio sed mi. \n",
      "Curabitur suscipit. Nullam vel nisi. Etiam semper ipsum ut lectus. Proin aliquam, erat eget \n",
      "pharetra commodo, eros mi condimentum quam, sed commodo justo quam ut velit. \n",
      "Integer a erat. Cras laoreet ligula cursus enim. Aenean scelerisque velit et tellus. \n",
      "Vestibulum dictum aliquet sem. Nulla facilisi. Vestibulum accumsan ante vitae elit. Nulla \n",
      "erat dolor, blandit in, rutrum quis, semper pulvinar, enim. Nullam varius congue risus. \n",
      "Vivamus sollicitudin, metus ut interdum eleifend, nisi tellus pellentesque elit, tristique \n",
      "accumsan eros quam et risus. Suspendisse libero odio, mattis sit amet, aliquet eget, \n",
      "hendrerit vel, nulla. Sed vitae augue. Aliquam erat volutpat. Aliquam feugiat vulputate nisl. \n",
      "Suspendisse quis nulla pretium ante pretium mollis. Proin velit ligula, sagittis at, egestas a, \n",
      "pulvinar quis, nisl.\n",
      "Pellentesque sit amet lectus. Praesent pulvinar, nunc quis iaculis sagittis, justo quam \n",
      "lobortis tortor, sed vestibulum dui metus venenatis est. Nunc cursus ligula. Nulla facilisi. \n",
      "Phasellus ullamcorper consectetuer ante. Duis tincidunt, urna id condimentum luctus, nibh \n",
      "ante vulputate sapien, id sagittis massa orci ut enim. Pellentesque vestibulum convallis \n",
      "sem. Nulla consequat quam ut nisl. Nullam est. Curabitur tincidunt dapibus lorem. Proin \n",
      "velit turpis, scelerisque sit amet, iaculis nec, rhoncus ac, ipsum. Phasellus lorem arcu, \n",
      "feugiat eu, gravida eu, consequat molestie, ipsum. Nullam vel est ut ipsum volutpat \n",
      "feugiat. Aenean pellentesque.\n",
      "In mauris. Pellentesque dui nisi, iaculis eu, rhoncus in, venenatis ac, ante. Ut odio justo, \n",
      "scelerisque vel, facilisis non, commodo a, pede. Cras nec massa sit amet tortor volutpat \n",
      "varius. Donec lacinia, neque a luctus aliquet, pede massa imperdiet ante, at varius lorem \n",
      "pede sed sapien. Fusce erat nibh, aliquet in, eleifend eget, commodo eget, erat. Fusce \n",
      "consectetuer. Cras risus tortor, porttitor nec, tristique sed, convallis semper, eros. Fusce \n",
      "vulputate ipsum a mauris. Phasellus mollis. Curabitur sed urna. Aliquam nec sapien non \n",
      "nibh pulvinar convallis. Vivamus facilisis augue quis quam. Proin cursus aliquet metus. \n",
      "Suspendisse lacinia. Nulla at tellus ac turpis eleifend scelerisque. Maecenas a pede vitae \n",
      "enim commodo interdum. Donec odio. Sed sollicitudin dui vitae justo.\n",
      "Morbi elit nunc, facilisis a, mollis a, molestie at, lectus. Suspendisse eget mauris eu tellus \n",
      "molestie cursus. Duis ut magna at justo dignissim condimentum. Cum sociis natoque \n",
      "penatibus et magnis dis parturient montes, nascetur ridiculus mus. Vivamus varius. Ut sit \n",
      "amet diam suscipit mauris ornare aliquam. Sed varius. Duis arcu. Etiam tristique massa \n",
      "eget dui. Phasellus congue. Aenean est erat, tincidunt eget, venenatis quis, commodo at, \n",
      "quam.\n"
     ]
    }
   ],
   "source": [
    "# pip install pypdf\n",
    "from langchain.document_loaders import PyPDFLoader\n",
    "\n",
    "loader = PyPDFLoader(file_path=\"../docs/sample.pdf\")\n",
    "data = loader.load()\n",
    "print(data[0].page_content)"
   ]
  },
  {
   "cell_type": "markdown",
   "metadata": {},
   "source": [
    "Integrations are third party interfaces available to be called within langchain, see more at: https://python.langchain.com/docs/integrations/document_loaders/youtube_transcript\n",
    "\n",
    "4. Youtube Loader"
   ]
  },
  {
   "cell_type": "markdown",
   "metadata": {},
   "source": [
    "As of 11/11/2024, pytube got issue fetching youtube video info, below is a quick fix locally, by adding `use_oauth` and `allow_oauth_cache` to local python environment, like `/workspaces/LangChain/.venv/lib/python3.12/site-packages/langchain_community/document_loaders/youtube.py`.\n",
    "\n",
    "![image](../docs/youtube_py_local_rewrite.jpg)"
   ]
  },
  {
   "cell_type": "code",
   "execution_count": 2,
   "metadata": {},
   "outputs": [
    {
     "name": "stdout",
     "output_type": "stream",
     "text": [
      "Please open https://www.google.com/device and input code QGV-VQD-HLQ\n",
      "sixty minutes rewind captain hopper is a whiz at mathematics some would say a genius one of that small band of brothers and sisters who ushered in the computer revolution in World War two at age 37 she left her professor's job at Vassar to serve as a lieutenant in the Navy Reserve she was sent to Harvard to help program the very first computer it had the unglamorous name of mark 1 and as far as we've progressed since this vacuum tube monster captain hopper says we ain't seen nothing yet you talk a lot about the computer revolution I thought we're in it and it's over no we're only at the beginning we've been through the preliminaries well what's it gonna be well we've got the Model T just the Model T that's where we are now she's up many mornings before 5:00 for the ride to Washington's National Airport 200 days a year she lectures two computer scientists at military bases she's also in demand on college campuses and among businessmen the Navy's proud to show off one of theirs who was in at the beginning she is more than just a superb mathematical talent it was Grace Hopper who helped teach the machines a language stopped them from speaking and undecipherable numbers enabled them to speak in English or French or German or whatever language you choose the first computer Grace Hopper worked on could do three calculations a second today's computers can do thousands a second millions a second sped along by tiny silicon chips educated grains of sand and billions and trillions of calculations a second are not too far off how do you explain that kind of speed they started talking about circuits that acted in nanoseconds billionths of a second I didn't know what a billion was I don't think most of those men downtown know what a billion is either and if you don't know what a billion is how on earth you know what a billionth is I fussed in fumed finally one morning in total desperation I called over to the engineering building and I said please cut off a nanosecond and send it over to me and I brought you some today now what I wanted when I asked for a nanosecond was I wanted a piece of work which would represent the maximum distance that electricity could travel in a billionth of a second now of course it wouldn't really be through wire be out in space the velocity of light so if we start with a velocity of light and use your friendly computer you'll discover that a nanosecond is 11.8 inches long the maximum limiting distance that electricity can travel in a billionth of a second finally the end of about a week I called back and said I need something to compare this to could I please have a microsecond I've only got one microsecond so I can't give you each one here's a microsecond 984 feet race hopper is at the center of a revolution that is changing life as we know it it tells the Navy how many tons of baked beans it has on hand it targets its missiles a revolution that can free human hands and the console at least on paper human problems in seconds where it used to take years at 76 she is in the chain of command that runs from the commander in chief to the Secretary of Defense to the Secretary of the Navy across to the lone woman whose picture is the only one in black and white because she's still looking for a good color photo of herself if you got into private industry probably a very rich person I've already received the highest award I'll ever receive no matter how long I live no matter how many more jobs that may have and that has been the privilege and the responsibility of serving very proudly in the United States Navy regret it was the Navy not the army or the Air Force well it had to be the Navy because my great-grandfather was a Rear Admiral besides which I like blue\n"
     ]
    }
   ],
   "source": [
    "# pip install pytube\n",
    "# pip install youtube-transcript-api\n",
    "from langchain.document_loaders import YoutubeLoader\n",
    "\n",
    "loader = YoutubeLoader.from_youtube_url(\n",
    "    youtube_url=\"https://www.youtube.com/watch?v=1LR6NPpFxw4\",\n",
    "    add_video_info = True,\n",
    "    # use_oauth=True,\n",
    "    # all_oauth_cache=True\n",
    ")\n",
    "\n",
    "data = loader.load()\n",
    "print(data[0].page_content)"
   ]
  }
 ],
 "metadata": {
  "kernelspec": {
   "display_name": ".venv",
   "language": "python",
   "name": "python3"
  },
  "language_info": {
   "codemirror_mode": {
    "name": "ipython",
    "version": 3
   },
   "file_extension": ".py",
   "mimetype": "text/x-python",
   "name": "python",
   "nbconvert_exporter": "python",
   "pygments_lexer": "ipython3",
   "version": "3.12.4"
  }
 },
 "nbformat": 4,
 "nbformat_minor": 2
}
