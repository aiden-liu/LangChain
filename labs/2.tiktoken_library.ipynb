{
 "cells": [
  {
   "cell_type": "markdown",
   "metadata": {},
   "source": [
    "# Tiktoken Library"
   ]
  },
  {
   "cell_type": "code",
   "execution_count": 4,
   "metadata": {},
   "outputs": [],
   "source": [
    "import tiktoken"
   ]
  },
  {
   "cell_type": "code",
   "execution_count": 5,
   "metadata": {},
   "outputs": [],
   "source": [
    "encoding = tiktoken.get_encoding(\"cl100k_base\")"
   ]
  },
  {
   "cell_type": "code",
   "execution_count": 6,
   "metadata": {},
   "outputs": [],
   "source": [
    "token_text = \"LangChain is a framework designed to simplify the creation of applications using large language models (LLMs). As a language model integration framework, LangChain's use-cases largely overlap with those of language models in general, including document analysis and summarization, chatbots, and code analysis.\""
   ]
  },
  {
   "cell_type": "code",
   "execution_count": 7,
   "metadata": {},
   "outputs": [
    {
     "name": "stdout",
     "output_type": "stream",
     "text": [
      "[27317, 19368, 374, 264, 12914, 6319, 311, 40821, 279, 9886, 315, 8522, 1701, 3544, 4221, 4211, 320, 4178, 22365, 570, 1666, 264, 4221, 1646, 18052, 12914, 11, 23272, 19368, 596, 1005, 1824, 2315, 14090, 28347, 449, 1884, 315, 4221, 4211, 304, 4689, 11, 2737, 2246, 6492, 323, 29385, 2065, 11, 6369, 63005, 11, 323, 2082, 6492, 13]\n",
      "Total tokens: 57\n"
     ]
    }
   ],
   "source": [
    "tokens=encoding.encode(token_text)\n",
    "print(tokens)\n",
    "print(\"Total tokens: {}\".format(len(tokens)))"
   ]
  }
 ],
 "metadata": {
  "kernelspec": {
   "display_name": "venv",
   "language": "python",
   "name": "python3"
  },
  "language_info": {
   "codemirror_mode": {
    "name": "ipython",
    "version": 3
   },
   "file_extension": ".py",
   "mimetype": "text/x-python",
   "name": "python",
   "nbconvert_exporter": "python",
   "pygments_lexer": "ipython3",
   "version": "3.12.4"
  }
 },
 "nbformat": 4,
 "nbformat_minor": 2
}
