{
 "cells": [
  {
   "cell_type": "code",
   "execution_count": 3,
   "metadata": {},
   "outputs": [],
   "source": [
    "from openai import OpenAI\n",
    "import os\n",
    "from langchain.chat_models import ChatOpenAI\n",
    "from langchain.llms import OpenAI as OpenAILC\n",
    "from langchain.prompts import ChatPromptTemplate, HumanMessagePromptTemplate, AIMessagePromptTemplate, SystemMessagePromptTemplate\n",
    "from langchain.output_parsers import PydanticOutputParser\n",
    "from pydantic import BaseModel, Field\n",
    "from dotenv import load_dotenv, find_dotenv\n",
    "\n",
    "load_dotenv(find_dotenv())\n",
    "\n",
    "client = OpenAI(\n",
    "    api_key=os.getenv(\"OPENAI_API_KEY\")\n",
    ")"
   ]
  },
  {
   "cell_type": "code",
   "execution_count": 2,
   "metadata": {},
   "outputs": [],
   "source": [
    "llm = ChatOpenAI(\n",
    "    openai_api_key=client.api_key,\n",
    "    model_name=\"gpt-3.5-turbo\"\n",
    ")"
   ]
  },
  {
   "cell_type": "markdown",
   "metadata": {},
   "source": [
    "Define a class for the pydantic custom model"
   ]
  },
  {
   "cell_type": "code",
   "execution_count": 4,
   "metadata": {},
   "outputs": [],
   "source": [
    "class My_List(BaseModel):\n",
    "    name: str = Field(description=\"\")\n",
    "    list_items: list = Field(description=\"\")"
   ]
  },
  {
   "cell_type": "markdown",
   "metadata": {},
   "source": [
    "Define a function that will generate the list base on input of a topic"
   ]
  },
  {
   "cell_type": "code",
   "execution_count": 13,
   "metadata": {},
   "outputs": [],
   "source": [
    "def list_creator(topic):\n",
    "    My_List.name=\"Name of the list of a {}\".format(topic)\n",
    "    My_List.list_items=\"A list of the {}\".format(topic)\n",
    "\n",
    "    parser = PydanticOutputParser(pydantic_object=My_List)\n",
    "\n",
    "    human_text = \"{instruction}\\n{format_instructions}\"\n",
    "    human_prompt = HumanMessagePromptTemplate.from_template(human_text)\n",
    "\n",
    "    chat_prompt = ChatPromptTemplate.from_messages([human_prompt])\n",
    "\n",
    "    prompt = chat_prompt.format_prompt(\n",
    "        instruction=\"Create a list for {}\".format(topic),\n",
    "        format_instructions=parser.get_format_instructions()\n",
    "    ).to_messages()\n",
    "\n",
    "    reply = llm(prompt)\n",
    "\n",
    "    return parser.parse(reply.content)"
   ]
  },
  {
   "cell_type": "markdown",
   "metadata": {},
   "source": [
    "Define a function that will create content of a tweet, based on input of a topic"
   ]
  },
  {
   "cell_type": "code",
   "execution_count": 18,
   "metadata": {},
   "outputs": [],
   "source": [
    "def tweet_creator(topic, tone):\n",
    "    system_template = 'You are a social media expert'\n",
    "    system_message = SystemMessagePromptTemplate.from_template(system_template)\n",
    "\n",
    "    human_template = \"Write a tweet about {topic}. The tone should be {tone}. The tweet should be no longer than 200 characters\"\n",
    "    human_message = HumanMessagePromptTemplate.from_template(human_template)\n",
    "\n",
    "    chat_prompt = ChatPromptTemplate.from_messages([system_message, human_message])\n",
    "    prompt = chat_prompt.format_prompt(\n",
    "        topic=topic,\n",
    "        tone=tone\n",
    "    ).to_messages()\n",
    "\n",
    "    reply = llm(prompt)\n",
    "    return reply.content"
   ]
  },
  {
   "cell_type": "markdown",
   "metadata": {},
   "source": [
    "The main function that assembly the other functions"
   ]
  },
  {
   "cell_type": "code",
   "execution_count": 11,
   "metadata": {},
   "outputs": [],
   "source": [
    "def main():\n",
    "    topic=  input(\"Please enter a topic for a list:\")\n",
    "    result_list = list_creator(topic)\n",
    "    print(\"-\"*10)\n",
    "    for i, result in enumerate(result_list.list_items, start=1):\n",
    "        # use enumerate to iterate the list, with index number start from 1\n",
    "        print(\"{}. {}\".format(i, result))\n",
    "    \n",
    "    topic_number = int(input(\"Enter the topic number to make a tweet about it.\"))\n",
    "    tone =  input(\"Enter the tone for the tweet.\")\n",
    "    tweet = tweet_creator(result_list.list_items[topic_number-1], tone)\n",
    "    print(\"-\"*10)\n",
    "    print(\"The tweet: {}\".format(tweet))"
   ]
  },
  {
   "cell_type": "code",
   "execution_count": 19,
   "metadata": {},
   "outputs": [
    {
     "name": "stdout",
     "output_type": "stream",
     "text": [
      "----------\n",
      "1. Presidential candidates\n",
      "2. Vice Presidential candidates\n",
      "3. Political parties\n",
      "4. Key issues\n",
      "5. Campaign strategies\n",
      "6. Electoral map\n",
      "7. Polling data\n",
      "8. Debates schedule\n",
      "9. Election results\n",
      "----------\n",
      "The tweet: \"Something seems off about these election results... 🤔🗳️ #ElectionFraud #QuestionableWin #StayAlert\"\n"
     ]
    }
   ],
   "source": [
    "main()"
   ]
  }
 ],
 "metadata": {
  "kernelspec": {
   "display_name": "venv",
   "language": "python",
   "name": "python3"
  },
  "language_info": {
   "codemirror_mode": {
    "name": "ipython",
    "version": 3
   },
   "file_extension": ".py",
   "mimetype": "text/x-python",
   "name": "python",
   "nbconvert_exporter": "python",
   "pygments_lexer": "ipython3",
   "version": "3.12.4"
  }
 },
 "nbformat": 4,
 "nbformat_minor": 2
}
